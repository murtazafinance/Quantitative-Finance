{
  "nbformat": 4,
  "nbformat_minor": 0,
  "metadata": {
    "colab": {
      "provenance": []
    },
    "kernelspec": {
      "name": "python3",
      "display_name": "Python 3"
    },
    "language_info": {
      "name": "python"
    },
    "widgets": {
      "application/vnd.jupyter.widget-state+json": {
        "231c222e95ee4372b78cf0975147f9b1": {
          "model_module": "@jupyter-widgets/controls",
          "model_name": "TextareaModel",
          "model_module_version": "1.5.0",
          "state": {
            "_dom_classes": [],
            "_model_module": "@jupyter-widgets/controls",
            "_model_module_version": "1.5.0",
            "_model_name": "TextareaModel",
            "_view_count": null,
            "_view_module": "@jupyter-widgets/controls",
            "_view_module_version": "1.5.0",
            "_view_name": "TextareaView",
            "continuous_update": true,
            "description": "Cash Flows:",
            "description_tooltip": null,
            "disabled": false,
            "layout": "IPY_MODEL_04e20ad7405f414c9f773a0d6090ed9b",
            "placeholder": "-1000, 200, 300, 400, 500",
            "rows": null,
            "style": "IPY_MODEL_f8ff097d72324e2296b31be3ea19af3b",
            "value": "-1200, 200, 100, 500, 1000"
          }
        },
        "04e20ad7405f414c9f773a0d6090ed9b": {
          "model_module": "@jupyter-widgets/base",
          "model_name": "LayoutModel",
          "model_module_version": "1.2.0",
          "state": {
            "_model_module": "@jupyter-widgets/base",
            "_model_module_version": "1.2.0",
            "_model_name": "LayoutModel",
            "_view_count": null,
            "_view_module": "@jupyter-widgets/base",
            "_view_module_version": "1.2.0",
            "_view_name": "LayoutView",
            "align_content": null,
            "align_items": null,
            "align_self": null,
            "border": null,
            "bottom": null,
            "display": null,
            "flex": null,
            "flex_flow": null,
            "grid_area": null,
            "grid_auto_columns": null,
            "grid_auto_flow": null,
            "grid_auto_rows": null,
            "grid_column": null,
            "grid_gap": null,
            "grid_row": null,
            "grid_template_areas": null,
            "grid_template_columns": null,
            "grid_template_rows": null,
            "height": null,
            "justify_content": null,
            "justify_items": null,
            "left": null,
            "margin": null,
            "max_height": null,
            "max_width": null,
            "min_height": null,
            "min_width": null,
            "object_fit": null,
            "object_position": null,
            "order": null,
            "overflow": null,
            "overflow_x": null,
            "overflow_y": null,
            "padding": null,
            "right": null,
            "top": null,
            "visibility": null,
            "width": null
          }
        },
        "f8ff097d72324e2296b31be3ea19af3b": {
          "model_module": "@jupyter-widgets/controls",
          "model_name": "DescriptionStyleModel",
          "model_module_version": "1.5.0",
          "state": {
            "_model_module": "@jupyter-widgets/controls",
            "_model_module_version": "1.5.0",
            "_model_name": "DescriptionStyleModel",
            "_view_count": null,
            "_view_module": "@jupyter-widgets/base",
            "_view_module_version": "1.2.0",
            "_view_name": "StyleView",
            "description_width": ""
          }
        },
        "632eb241962045ae8f05fb91b9bda072": {
          "model_module": "@jupyter-widgets/controls",
          "model_name": "FloatTextModel",
          "model_module_version": "1.5.0",
          "state": {
            "_dom_classes": [],
            "_model_module": "@jupyter-widgets/controls",
            "_model_module_version": "1.5.0",
            "_model_name": "FloatTextModel",
            "_view_count": null,
            "_view_module": "@jupyter-widgets/controls",
            "_view_module_version": "1.5.0",
            "_view_name": "FloatTextView",
            "continuous_update": false,
            "description": "Discount Rate (for NPV):",
            "description_tooltip": null,
            "disabled": false,
            "layout": "IPY_MODEL_860f248f27224716bb286508fd7a026c",
            "step": null,
            "style": "IPY_MODEL_4e14ff0eeddb449cae6dcc0786055d9f",
            "value": 0.1
          }
        },
        "860f248f27224716bb286508fd7a026c": {
          "model_module": "@jupyter-widgets/base",
          "model_name": "LayoutModel",
          "model_module_version": "1.2.0",
          "state": {
            "_model_module": "@jupyter-widgets/base",
            "_model_module_version": "1.2.0",
            "_model_name": "LayoutModel",
            "_view_count": null,
            "_view_module": "@jupyter-widgets/base",
            "_view_module_version": "1.2.0",
            "_view_name": "LayoutView",
            "align_content": null,
            "align_items": null,
            "align_self": null,
            "border": null,
            "bottom": null,
            "display": null,
            "flex": null,
            "flex_flow": null,
            "grid_area": null,
            "grid_auto_columns": null,
            "grid_auto_flow": null,
            "grid_auto_rows": null,
            "grid_column": null,
            "grid_gap": null,
            "grid_row": null,
            "grid_template_areas": null,
            "grid_template_columns": null,
            "grid_template_rows": null,
            "height": null,
            "justify_content": null,
            "justify_items": null,
            "left": null,
            "margin": null,
            "max_height": null,
            "max_width": null,
            "min_height": null,
            "min_width": null,
            "object_fit": null,
            "object_position": null,
            "order": null,
            "overflow": null,
            "overflow_x": null,
            "overflow_y": null,
            "padding": null,
            "right": null,
            "top": null,
            "visibility": null,
            "width": null
          }
        },
        "4e14ff0eeddb449cae6dcc0786055d9f": {
          "model_module": "@jupyter-widgets/controls",
          "model_name": "DescriptionStyleModel",
          "model_module_version": "1.5.0",
          "state": {
            "_model_module": "@jupyter-widgets/controls",
            "_model_module_version": "1.5.0",
            "_model_name": "DescriptionStyleModel",
            "_view_count": null,
            "_view_module": "@jupyter-widgets/base",
            "_view_module_version": "1.2.0",
            "_view_name": "StyleView",
            "description_width": ""
          }
        },
        "f28ce56b136c4a75a147c4a68c43f6e6": {
          "model_module": "@jupyter-widgets/controls",
          "model_name": "FloatTextModel",
          "model_module_version": "1.5.0",
          "state": {
            "_dom_classes": [],
            "_model_module": "@jupyter-widgets/controls",
            "_model_module_version": "1.5.0",
            "_model_name": "FloatTextModel",
            "_view_count": null,
            "_view_module": "@jupyter-widgets/controls",
            "_view_module_version": "1.5.0",
            "_view_name": "FloatTextView",
            "continuous_update": false,
            "description": "Hurdle Rate (for IRR):",
            "description_tooltip": null,
            "disabled": false,
            "layout": "IPY_MODEL_774d6b5299434786ad99cf0c52a7db0b",
            "step": null,
            "style": "IPY_MODEL_ec5fb603ffbd4de1894bf5e002111d79",
            "value": 0.12
          }
        },
        "774d6b5299434786ad99cf0c52a7db0b": {
          "model_module": "@jupyter-widgets/base",
          "model_name": "LayoutModel",
          "model_module_version": "1.2.0",
          "state": {
            "_model_module": "@jupyter-widgets/base",
            "_model_module_version": "1.2.0",
            "_model_name": "LayoutModel",
            "_view_count": null,
            "_view_module": "@jupyter-widgets/base",
            "_view_module_version": "1.2.0",
            "_view_name": "LayoutView",
            "align_content": null,
            "align_items": null,
            "align_self": null,
            "border": null,
            "bottom": null,
            "display": null,
            "flex": null,
            "flex_flow": null,
            "grid_area": null,
            "grid_auto_columns": null,
            "grid_auto_flow": null,
            "grid_auto_rows": null,
            "grid_column": null,
            "grid_gap": null,
            "grid_row": null,
            "grid_template_areas": null,
            "grid_template_columns": null,
            "grid_template_rows": null,
            "height": null,
            "justify_content": null,
            "justify_items": null,
            "left": null,
            "margin": null,
            "max_height": null,
            "max_width": null,
            "min_height": null,
            "min_width": null,
            "object_fit": null,
            "object_position": null,
            "order": null,
            "overflow": null,
            "overflow_x": null,
            "overflow_y": null,
            "padding": null,
            "right": null,
            "top": null,
            "visibility": null,
            "width": null
          }
        },
        "ec5fb603ffbd4de1894bf5e002111d79": {
          "model_module": "@jupyter-widgets/controls",
          "model_name": "DescriptionStyleModel",
          "model_module_version": "1.5.0",
          "state": {
            "_model_module": "@jupyter-widgets/controls",
            "_model_module_version": "1.5.0",
            "_model_name": "DescriptionStyleModel",
            "_view_count": null,
            "_view_module": "@jupyter-widgets/base",
            "_view_module_version": "1.2.0",
            "_view_name": "StyleView",
            "description_width": ""
          }
        },
        "08388200715245498bcd35f7be82fcfa": {
          "model_module": "@jupyter-widgets/controls",
          "model_name": "ButtonModel",
          "model_module_version": "1.5.0",
          "state": {
            "_dom_classes": [],
            "_model_module": "@jupyter-widgets/controls",
            "_model_module_version": "1.5.0",
            "_model_name": "ButtonModel",
            "_view_count": null,
            "_view_module": "@jupyter-widgets/controls",
            "_view_module_version": "1.5.0",
            "_view_name": "ButtonView",
            "button_style": "",
            "description": "Calculate",
            "disabled": false,
            "icon": "",
            "layout": "IPY_MODEL_4b9ea6d9647e417ea8c30569563003ec",
            "style": "IPY_MODEL_21f7f2cbfce14b6ab1b0cfa6ed7239b7",
            "tooltip": ""
          }
        },
        "4b9ea6d9647e417ea8c30569563003ec": {
          "model_module": "@jupyter-widgets/base",
          "model_name": "LayoutModel",
          "model_module_version": "1.2.0",
          "state": {
            "_model_module": "@jupyter-widgets/base",
            "_model_module_version": "1.2.0",
            "_model_name": "LayoutModel",
            "_view_count": null,
            "_view_module": "@jupyter-widgets/base",
            "_view_module_version": "1.2.0",
            "_view_name": "LayoutView",
            "align_content": null,
            "align_items": null,
            "align_self": null,
            "border": null,
            "bottom": null,
            "display": null,
            "flex": null,
            "flex_flow": null,
            "grid_area": null,
            "grid_auto_columns": null,
            "grid_auto_flow": null,
            "grid_auto_rows": null,
            "grid_column": null,
            "grid_gap": null,
            "grid_row": null,
            "grid_template_areas": null,
            "grid_template_columns": null,
            "grid_template_rows": null,
            "height": null,
            "justify_content": null,
            "justify_items": null,
            "left": null,
            "margin": null,
            "max_height": null,
            "max_width": null,
            "min_height": null,
            "min_width": null,
            "object_fit": null,
            "object_position": null,
            "order": null,
            "overflow": null,
            "overflow_x": null,
            "overflow_y": null,
            "padding": null,
            "right": null,
            "top": null,
            "visibility": null,
            "width": null
          }
        },
        "21f7f2cbfce14b6ab1b0cfa6ed7239b7": {
          "model_module": "@jupyter-widgets/controls",
          "model_name": "ButtonStyleModel",
          "model_module_version": "1.5.0",
          "state": {
            "_model_module": "@jupyter-widgets/controls",
            "_model_module_version": "1.5.0",
            "_model_name": "ButtonStyleModel",
            "_view_count": null,
            "_view_module": "@jupyter-widgets/base",
            "_view_module_version": "1.2.0",
            "_view_name": "StyleView",
            "button_color": null,
            "font_weight": ""
          }
        },
        "e763b4a977b54509bb3308394e0e0bab": {
          "model_module": "@jupyter-widgets/output",
          "model_name": "OutputModel",
          "model_module_version": "1.0.0",
          "state": {
            "_dom_classes": [],
            "_model_module": "@jupyter-widgets/output",
            "_model_module_version": "1.0.0",
            "_model_name": "OutputModel",
            "_view_count": null,
            "_view_module": "@jupyter-widgets/output",
            "_view_module_version": "1.0.0",
            "_view_name": "OutputView",
            "layout": "IPY_MODEL_1d407390f4314d63a0d956bb7ecc2332",
            "msg_id": "",
            "outputs": [
              {
                "output_type": "stream",
                "name": "stdout",
                "text": [
                  "Net Present Value (NPV): 123.13\n",
                  "Internal Rate of Return (IRR): 13.45%\n",
                  "Hurdle Rate: 12.00%\n",
                  "\n",
                  "--- Investment Decision Rule ---\n",
                  "Based on NPV: Accept the investment.\n",
                  "Based on IRR: Accept the investment (IRR > Hurdle Rate).\n"
                ]
              }
            ]
          }
        },
        "1d407390f4314d63a0d956bb7ecc2332": {
          "model_module": "@jupyter-widgets/base",
          "model_name": "LayoutModel",
          "model_module_version": "1.2.0",
          "state": {
            "_model_module": "@jupyter-widgets/base",
            "_model_module_version": "1.2.0",
            "_model_name": "LayoutModel",
            "_view_count": null,
            "_view_module": "@jupyter-widgets/base",
            "_view_module_version": "1.2.0",
            "_view_name": "LayoutView",
            "align_content": null,
            "align_items": null,
            "align_self": null,
            "border": null,
            "bottom": null,
            "display": null,
            "flex": null,
            "flex_flow": null,
            "grid_area": null,
            "grid_auto_columns": null,
            "grid_auto_flow": null,
            "grid_auto_rows": null,
            "grid_column": null,
            "grid_gap": null,
            "grid_row": null,
            "grid_template_areas": null,
            "grid_template_columns": null,
            "grid_template_rows": null,
            "height": null,
            "justify_content": null,
            "justify_items": null,
            "left": null,
            "margin": null,
            "max_height": null,
            "max_width": null,
            "min_height": null,
            "min_width": null,
            "object_fit": null,
            "object_position": null,
            "order": null,
            "overflow": null,
            "overflow_x": null,
            "overflow_y": null,
            "padding": null,
            "right": null,
            "top": null,
            "visibility": null,
            "width": null
          }
        }
      }
    }
  },
  "cells": [
    {
      "cell_type": "code",
      "metadata": {
        "colab": {
          "base_uri": "https://localhost:8080/"
        },
        "id": "c3841c2b",
        "outputId": "ff26ccdc-5626-49de-9bcb-a99975c6b742"
      },
      "source": [
        "!pip install numpy-financial"
      ],
      "execution_count": null,
      "outputs": [
        {
          "output_type": "stream",
          "name": "stdout",
          "text": [
            "Collecting numpy-financial\n",
            "  Downloading numpy_financial-1.0.0-py3-none-any.whl.metadata (2.2 kB)\n",
            "Requirement already satisfied: numpy>=1.15 in /usr/local/lib/python3.12/dist-packages (from numpy-financial) (2.0.2)\n",
            "Downloading numpy_financial-1.0.0-py3-none-any.whl (14 kB)\n",
            "Installing collected packages: numpy-financial\n",
            "Successfully installed numpy-financial-1.0.0\n"
          ]
        }
      ]
    },
    {
      "cell_type": "code",
      "metadata": {
        "colab": {
          "base_uri": "https://localhost:8080/",
          "height": 277,
          "referenced_widgets": [
            "231c222e95ee4372b78cf0975147f9b1",
            "04e20ad7405f414c9f773a0d6090ed9b",
            "f8ff097d72324e2296b31be3ea19af3b",
            "632eb241962045ae8f05fb91b9bda072",
            "860f248f27224716bb286508fd7a026c",
            "4e14ff0eeddb449cae6dcc0786055d9f",
            "f28ce56b136c4a75a147c4a68c43f6e6",
            "774d6b5299434786ad99cf0c52a7db0b",
            "ec5fb603ffbd4de1894bf5e002111d79",
            "08388200715245498bcd35f7be82fcfa",
            "4b9ea6d9647e417ea8c30569563003ec",
            "21f7f2cbfce14b6ab1b0cfa6ed7239b7",
            "e763b4a977b54509bb3308394e0e0bab",
            "1d407390f4314d63a0d956bb7ecc2332"
          ]
        },
        "id": "4f40b165",
        "outputId": "63365a6f-cac6-49df-d27d-a7394d3b5325"
      },
      "source": [
        "import ipywidgets as widgets\n",
        "from IPython.display import display, clear_output\n",
        "import numpy_financial as npf\n",
        "import numpy as np # Import numpy for isnan check\n",
        "\n",
        "# Function to calculate NPV (reusing the previous definition)\n",
        "def npv(rate, cashflows):\n",
        "    \"\"\"\n",
        "    rate: discount rate (example: 0.10 for 10%)\n",
        "    cashflows: list of cash flows, where\n",
        "               cashflows[0] is the initial investment (usually negative)\n",
        "               cashflows[1], cashflows[2], ... are inflows in future years\n",
        "    \"\"\"\n",
        "    total_value = 0\n",
        "    for t, cash in enumerate(cashflows):\n",
        "        present_value = cash / ((1 + rate) ** t)\n",
        "        total_value += present_value\n",
        "    return total_value\n",
        "\n",
        "# Function to calculate IRR (reusing the previous definition)\n",
        "def irr(cashflows):\n",
        "    \"\"\"\n",
        "    cashflows: list of cash flows, where\n",
        "               cashflows[0] is the initial investment (usually negative)\n",
        "               cashflows[1], cashflows[2], ... are inflows in future years\n",
        "    \"\"\"\n",
        "    try:\n",
        "        return npf.irr(cashflows)\n",
        "    except:\n",
        "        return float('nan') # Return NaN if IRR cannot be calculated\n",
        "\n",
        "\n",
        "# Create input widgets\n",
        "cash_flows_input = widgets.Textarea(\n",
        "    description='Cash Flows:',\n",
        "    placeholder='-1000, 200, 300, 400, 500',\n",
        "    disabled=False\n",
        ")\n",
        "\n",
        "discount_rate_input = widgets.FloatText(\n",
        "    description='Discount Rate (for NPV):',\n",
        "    value=0.10,\n",
        "    disabled=False\n",
        ")\n",
        "\n",
        "hurdle_rate_input = widgets.FloatText(\n",
        "    description='Hurdle Rate (for IRR):',\n",
        "    value=0.15, # Example hurdle rate\n",
        "    disabled=False\n",
        ")\n",
        "\n",
        "calculate_button = widgets.Button(description='Calculate')\n",
        "\n",
        "# Output widget to display results\n",
        "output = widgets.Output()\n",
        "\n",
        "# Function to handle button click\n",
        "def on_button_clicked(b):\n",
        "    with output:\n",
        "        clear_output()\n",
        "        try:\n",
        "            cash_flows = [float(x.strip()) for x in cash_flows_input.value.split(',')]\n",
        "            discount_rate = discount_rate_input.value\n",
        "            hurdle_rate = hurdle_rate_input.value\n",
        "\n",
        "            npv_value = npv(discount_rate, cash_flows)\n",
        "            irr_value = irr(cash_flows)\n",
        "\n",
        "            print(f\"Net Present Value (NPV): {npv_value:.2f}\")\n",
        "            if not np.isnan(irr_value):\n",
        "                 print(f\"Internal Rate of Return (IRR): {irr_value:.2%}\")\n",
        "            else:\n",
        "                 print(\"Internal Rate of Return (IRR): Could not calculate\")\n",
        "            print(f\"Hurdle Rate: {hurdle_rate:.2%}\")\n",
        "\n",
        "\n",
        "            print(\"\\n--- Investment Decision Rule ---\")\n",
        "            if npv_value > 0:\n",
        "                print(\"Based on NPV: Accept the investment.\")\n",
        "            elif npv_value < 0:\n",
        "                print(\"Based on NPV: Reject the investment.\")\n",
        "            else:\n",
        "                print(\"Based on NPV: The investment is neutral.\")\n",
        "\n",
        "            if not np.isnan(irr_value):\n",
        "                if irr_value > hurdle_rate:\n",
        "                    print(f\"Based on IRR: Accept the investment (IRR > Hurdle Rate).\")\n",
        "                elif irr_value < hurdle_rate:\n",
        "                    print(f\"Based on IRR: Reject the investment (IRR < Hurdle Rate).\")\n",
        "                else:\n",
        "                    print(f\"Based on IRR: The investment is neutral (IRR = Hurdle Rate).\")\n",
        "            else:\n",
        "                 print(\"Based on IRR: Cannot apply decision rule as IRR could not be calculated.\")\n",
        "\n",
        "\n",
        "        except ValueError:\n",
        "            print(\"Invalid input. Please ensure cash flows are numbers separated by commas.\")\n",
        "        except Exception as e:\n",
        "            print(f\"An error occurred: {e}\")\n",
        "\n",
        "\n",
        "# Link button click to function\n",
        "calculate_button.on_click(on_button_clicked)\n",
        "\n",
        "# Display the widgets\n",
        "display(cash_flows_input, discount_rate_input, hurdle_rate_input, calculate_button, output)"
      ],
      "execution_count": null,
      "outputs": [
        {
          "output_type": "display_data",
          "data": {
            "text/plain": [
              "Textarea(value='', description='Cash Flows:', placeholder='-1000, 200, 300, 400, 500')"
            ],
            "application/vnd.jupyter.widget-view+json": {
              "version_major": 2,
              "version_minor": 0,
              "model_id": "231c222e95ee4372b78cf0975147f9b1"
            }
          },
          "metadata": {}
        },
        {
          "output_type": "display_data",
          "data": {
            "text/plain": [
              "FloatText(value=0.1, description='Discount Rate (for NPV):')"
            ],
            "application/vnd.jupyter.widget-view+json": {
              "version_major": 2,
              "version_minor": 0,
              "model_id": "632eb241962045ae8f05fb91b9bda072"
            }
          },
          "metadata": {}
        },
        {
          "output_type": "display_data",
          "data": {
            "text/plain": [
              "FloatText(value=0.15, description='Hurdle Rate (for IRR):')"
            ],
            "application/vnd.jupyter.widget-view+json": {
              "version_major": 2,
              "version_minor": 0,
              "model_id": "f28ce56b136c4a75a147c4a68c43f6e6"
            }
          },
          "metadata": {}
        },
        {
          "output_type": "display_data",
          "data": {
            "text/plain": [
              "Button(description='Calculate', style=ButtonStyle())"
            ],
            "application/vnd.jupyter.widget-view+json": {
              "version_major": 2,
              "version_minor": 0,
              "model_id": "08388200715245498bcd35f7be82fcfa"
            }
          },
          "metadata": {}
        },
        {
          "output_type": "display_data",
          "data": {
            "text/plain": [
              "Output()"
            ],
            "application/vnd.jupyter.widget-view+json": {
              "version_major": 2,
              "version_minor": 0,
              "model_id": "e763b4a977b54509bb3308394e0e0bab"
            }
          },
          "metadata": {}
        }
      ]
    }
  ]
}