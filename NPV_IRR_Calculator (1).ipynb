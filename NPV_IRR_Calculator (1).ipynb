{
  "nbformat": 4,
  "nbformat_minor": 0,
  "metadata": {
    "colab": {
      "provenance": []
    },
    "kernelspec": {
      "name": "python3",
      "display_name": "Python 3"
    },
    "language_info": {
      "name": "python"
    },
    "widgets": {
      "application/vnd.jupyter.widget-state+json": {
        "40893cea0b624e5a973c0508647cc9f4": {
          "model_module": "@jupyter-widgets/controls",
          "model_name": "TextareaModel",
          "model_module_version": "1.5.0",
          "state": {
            "_dom_classes": [],
            "_model_module": "@jupyter-widgets/controls",
            "_model_module_version": "1.5.0",
            "_model_name": "TextareaModel",
            "_view_count": null,
            "_view_module": "@jupyter-widgets/controls",
            "_view_module_version": "1.5.0",
            "_view_name": "TextareaView",
            "continuous_update": true,
            "description": "Cash Flows:",
            "description_tooltip": null,
            "disabled": false,
            "layout": "IPY_MODEL_c8bd0d8e90f0432ba9d70364abcf5c12",
            "placeholder": "-1000, 200, 300, 400, 500",
            "rows": null,
            "style": "IPY_MODEL_5b015a55ae044d87beafe03cda451d0e",
            "value": "-3000, 1000,2000, 3000"
          }
        },
        "c8bd0d8e90f0432ba9d70364abcf5c12": {
          "model_module": "@jupyter-widgets/base",
          "model_name": "LayoutModel",
          "model_module_version": "1.2.0",
          "state": {
            "_model_module": "@jupyter-widgets/base",
            "_model_module_version": "1.2.0",
            "_model_name": "LayoutModel",
            "_view_count": null,
            "_view_module": "@jupyter-widgets/base",
            "_view_module_version": "1.2.0",
            "_view_name": "LayoutView",
            "align_content": null,
            "align_items": null,
            "align_self": null,
            "border": null,
            "bottom": null,
            "display": null,
            "flex": null,
            "flex_flow": null,
            "grid_area": null,
            "grid_auto_columns": null,
            "grid_auto_flow": null,
            "grid_auto_rows": null,
            "grid_column": null,
            "grid_gap": null,
            "grid_row": null,
            "grid_template_areas": null,
            "grid_template_columns": null,
            "grid_template_rows": null,
            "height": null,
            "justify_content": null,
            "justify_items": null,
            "left": null,
            "margin": null,
            "max_height": null,
            "max_width": null,
            "min_height": null,
            "min_width": null,
            "object_fit": null,
            "object_position": null,
            "order": null,
            "overflow": null,
            "overflow_x": null,
            "overflow_y": null,
            "padding": null,
            "right": null,
            "top": null,
            "visibility": null,
            "width": null
          }
        },
        "5b015a55ae044d87beafe03cda451d0e": {
          "model_module": "@jupyter-widgets/controls",
          "model_name": "DescriptionStyleModel",
          "model_module_version": "1.5.0",
          "state": {
            "_model_module": "@jupyter-widgets/controls",
            "_model_module_version": "1.5.0",
            "_model_name": "DescriptionStyleModel",
            "_view_count": null,
            "_view_module": "@jupyter-widgets/base",
            "_view_module_version": "1.2.0",
            "_view_name": "StyleView",
            "description_width": ""
          }
        },
        "01b30e0f7caa4b2a9605f4d41e606f7a": {
          "model_module": "@jupyter-widgets/controls",
          "model_name": "FloatTextModel",
          "model_module_version": "1.5.0",
          "state": {
            "_dom_classes": [],
            "_model_module": "@jupyter-widgets/controls",
            "_model_module_version": "1.5.0",
            "_model_name": "FloatTextModel",
            "_view_count": null,
            "_view_module": "@jupyter-widgets/controls",
            "_view_module_version": "1.5.0",
            "_view_name": "FloatTextView",
            "continuous_update": false,
            "description": "Discount Rate (for NPV):",
            "description_tooltip": null,
            "disabled": false,
            "layout": "IPY_MODEL_e6f7ec3b607c4170a548f5af0977dc12",
            "step": null,
            "style": "IPY_MODEL_d03d7be666934ee79806dbd4c855be90",
            "value": 0.1
          }
        },
        "e6f7ec3b607c4170a548f5af0977dc12": {
          "model_module": "@jupyter-widgets/base",
          "model_name": "LayoutModel",
          "model_module_version": "1.2.0",
          "state": {
            "_model_module": "@jupyter-widgets/base",
            "_model_module_version": "1.2.0",
            "_model_name": "LayoutModel",
            "_view_count": null,
            "_view_module": "@jupyter-widgets/base",
            "_view_module_version": "1.2.0",
            "_view_name": "LayoutView",
            "align_content": null,
            "align_items": null,
            "align_self": null,
            "border": null,
            "bottom": null,
            "display": null,
            "flex": null,
            "flex_flow": null,
            "grid_area": null,
            "grid_auto_columns": null,
            "grid_auto_flow": null,
            "grid_auto_rows": null,
            "grid_column": null,
            "grid_gap": null,
            "grid_row": null,
            "grid_template_areas": null,
            "grid_template_columns": null,
            "grid_template_rows": null,
            "height": null,
            "justify_content": null,
            "justify_items": null,
            "left": null,
            "margin": null,
            "max_height": null,
            "max_width": null,
            "min_height": null,
            "min_width": null,
            "object_fit": null,
            "object_position": null,
            "order": null,
            "overflow": null,
            "overflow_x": null,
            "overflow_y": null,
            "padding": null,
            "right": null,
            "top": null,
            "visibility": null,
            "width": null
          }
        },
        "d03d7be666934ee79806dbd4c855be90": {
          "model_module": "@jupyter-widgets/controls",
          "model_name": "DescriptionStyleModel",
          "model_module_version": "1.5.0",
          "state": {
            "_model_module": "@jupyter-widgets/controls",
            "_model_module_version": "1.5.0",
            "_model_name": "DescriptionStyleModel",
            "_view_count": null,
            "_view_module": "@jupyter-widgets/base",
            "_view_module_version": "1.2.0",
            "_view_name": "StyleView",
            "description_width": ""
          }
        },
        "c7e93de6e551435f86fb78d909cae902": {
          "model_module": "@jupyter-widgets/controls",
          "model_name": "FloatTextModel",
          "model_module_version": "1.5.0",
          "state": {
            "_dom_classes": [],
            "_model_module": "@jupyter-widgets/controls",
            "_model_module_version": "1.5.0",
            "_model_name": "FloatTextModel",
            "_view_count": null,
            "_view_module": "@jupyter-widgets/controls",
            "_view_module_version": "1.5.0",
            "_view_name": "FloatTextView",
            "continuous_update": false,
            "description": "Hurdle Rate (for IRR):",
            "description_tooltip": null,
            "disabled": false,
            "layout": "IPY_MODEL_15b48d154f3e4ccf9f4b1f55ca4c1eb1",
            "step": null,
            "style": "IPY_MODEL_d6079da2f26e404d85b35722e90b0a1f",
            "value": 0.15
          }
        },
        "15b48d154f3e4ccf9f4b1f55ca4c1eb1": {
          "model_module": "@jupyter-widgets/base",
          "model_name": "LayoutModel",
          "model_module_version": "1.2.0",
          "state": {
            "_model_module": "@jupyter-widgets/base",
            "_model_module_version": "1.2.0",
            "_model_name": "LayoutModel",
            "_view_count": null,
            "_view_module": "@jupyter-widgets/base",
            "_view_module_version": "1.2.0",
            "_view_name": "LayoutView",
            "align_content": null,
            "align_items": null,
            "align_self": null,
            "border": null,
            "bottom": null,
            "display": null,
            "flex": null,
            "flex_flow": null,
            "grid_area": null,
            "grid_auto_columns": null,
            "grid_auto_flow": null,
            "grid_auto_rows": null,
            "grid_column": null,
            "grid_gap": null,
            "grid_row": null,
            "grid_template_areas": null,
            "grid_template_columns": null,
            "grid_template_rows": null,
            "height": null,
            "justify_content": null,
            "justify_items": null,
            "left": null,
            "margin": null,
            "max_height": null,
            "max_width": null,
            "min_height": null,
            "min_width": null,
            "object_fit": null,
            "object_position": null,
            "order": null,
            "overflow": null,
            "overflow_x": null,
            "overflow_y": null,
            "padding": null,
            "right": null,
            "top": null,
            "visibility": null,
            "width": null
          }
        },
        "d6079da2f26e404d85b35722e90b0a1f": {
          "model_module": "@jupyter-widgets/controls",
          "model_name": "DescriptionStyleModel",
          "model_module_version": "1.5.0",
          "state": {
            "_model_module": "@jupyter-widgets/controls",
            "_model_module_version": "1.5.0",
            "_model_name": "DescriptionStyleModel",
            "_view_count": null,
            "_view_module": "@jupyter-widgets/base",
            "_view_module_version": "1.2.0",
            "_view_name": "StyleView",
            "description_width": ""
          }
        },
        "2a108a37e1a94530b00bfa0e790d1075": {
          "model_module": "@jupyter-widgets/controls",
          "model_name": "ButtonModel",
          "model_module_version": "1.5.0",
          "state": {
            "_dom_classes": [],
            "_model_module": "@jupyter-widgets/controls",
            "_model_module_version": "1.5.0",
            "_model_name": "ButtonModel",
            "_view_count": null,
            "_view_module": "@jupyter-widgets/controls",
            "_view_module_version": "1.5.0",
            "_view_name": "ButtonView",
            "button_style": "",
            "description": "Calculate",
            "disabled": false,
            "icon": "",
            "layout": "IPY_MODEL_c7f7263fa9a644beb0678d9b2df4053a",
            "style": "IPY_MODEL_535eb6166c87408882bc0e8612c58293",
            "tooltip": ""
          }
        },
        "c7f7263fa9a644beb0678d9b2df4053a": {
          "model_module": "@jupyter-widgets/base",
          "model_name": "LayoutModel",
          "model_module_version": "1.2.0",
          "state": {
            "_model_module": "@jupyter-widgets/base",
            "_model_module_version": "1.2.0",
            "_model_name": "LayoutModel",
            "_view_count": null,
            "_view_module": "@jupyter-widgets/base",
            "_view_module_version": "1.2.0",
            "_view_name": "LayoutView",
            "align_content": null,
            "align_items": null,
            "align_self": null,
            "border": null,
            "bottom": null,
            "display": null,
            "flex": null,
            "flex_flow": null,
            "grid_area": null,
            "grid_auto_columns": null,
            "grid_auto_flow": null,
            "grid_auto_rows": null,
            "grid_column": null,
            "grid_gap": null,
            "grid_row": null,
            "grid_template_areas": null,
            "grid_template_columns": null,
            "grid_template_rows": null,
            "height": null,
            "justify_content": null,
            "justify_items": null,
            "left": null,
            "margin": null,
            "max_height": null,
            "max_width": null,
            "min_height": null,
            "min_width": null,
            "object_fit": null,
            "object_position": null,
            "order": null,
            "overflow": null,
            "overflow_x": null,
            "overflow_y": null,
            "padding": null,
            "right": null,
            "top": null,
            "visibility": null,
            "width": null
          }
        },
        "535eb6166c87408882bc0e8612c58293": {
          "model_module": "@jupyter-widgets/controls",
          "model_name": "ButtonStyleModel",
          "model_module_version": "1.5.0",
          "state": {
            "_model_module": "@jupyter-widgets/controls",
            "_model_module_version": "1.5.0",
            "_model_name": "ButtonStyleModel",
            "_view_count": null,
            "_view_module": "@jupyter-widgets/base",
            "_view_module_version": "1.2.0",
            "_view_name": "StyleView",
            "button_color": null,
            "font_weight": ""
          }
        },
        "4acca5d25fd741f18c5987299469bc54": {
          "model_module": "@jupyter-widgets/output",
          "model_name": "OutputModel",
          "model_module_version": "1.0.0",
          "state": {
            "_dom_classes": [],
            "_model_module": "@jupyter-widgets/output",
            "_model_module_version": "1.0.0",
            "_model_name": "OutputModel",
            "_view_count": null,
            "_view_module": "@jupyter-widgets/output",
            "_view_module_version": "1.0.0",
            "_view_name": "OutputView",
            "layout": "IPY_MODEL_3b3dcd7779aa4b8db1cdf780a1d7b70b",
            "msg_id": "",
            "outputs": [
              {
                "output_type": "stream",
                "name": "stdout",
                "text": [
                  "Net Present Value (NPV): 1815.93\n",
                  "Internal Rate of Return (IRR): 36.19%\n",
                  "Hurdle Rate: 15.00%\n",
                  "\n",
                  "--- Investment Decision Rule ---\n",
                  "Based on NPV: Accept the investment.\n",
                  "Based on IRR: Accept the investment (IRR > Hurdle Rate).\n"
                ]
              }
            ]
          }
        },
        "3b3dcd7779aa4b8db1cdf780a1d7b70b": {
          "model_module": "@jupyter-widgets/base",
          "model_name": "LayoutModel",
          "model_module_version": "1.2.0",
          "state": {
            "_model_module": "@jupyter-widgets/base",
            "_model_module_version": "1.2.0",
            "_model_name": "LayoutModel",
            "_view_count": null,
            "_view_module": "@jupyter-widgets/base",
            "_view_module_version": "1.2.0",
            "_view_name": "LayoutView",
            "align_content": null,
            "align_items": null,
            "align_self": null,
            "border": null,
            "bottom": null,
            "display": null,
            "flex": null,
            "flex_flow": null,
            "grid_area": null,
            "grid_auto_columns": null,
            "grid_auto_flow": null,
            "grid_auto_rows": null,
            "grid_column": null,
            "grid_gap": null,
            "grid_row": null,
            "grid_template_areas": null,
            "grid_template_columns": null,
            "grid_template_rows": null,
            "height": null,
            "justify_content": null,
            "justify_items": null,
            "left": null,
            "margin": null,
            "max_height": null,
            "max_width": null,
            "min_height": null,
            "min_width": null,
            "object_fit": null,
            "object_position": null,
            "order": null,
            "overflow": null,
            "overflow_x": null,
            "overflow_y": null,
            "padding": null,
            "right": null,
            "top": null,
            "visibility": null,
            "width": null
          }
        }
      }
    }
  },
  "cells": [
    {
      "cell_type": "code",
      "metadata": {
        "colab": {
          "base_uri": "https://localhost:8080/"
        },
        "id": "c3841c2b",
        "outputId": "5876e982-8677-4649-fd54-9db46d170124"
      },
      "source": [
        "!pip install numpy-financial"
      ],
      "execution_count": 4,
      "outputs": [
        {
          "output_type": "stream",
          "name": "stdout",
          "text": [
            "Collecting numpy-financial\n",
            "  Downloading numpy_financial-1.0.0-py3-none-any.whl.metadata (2.2 kB)\n",
            "Requirement already satisfied: numpy>=1.15 in /usr/local/lib/python3.12/dist-packages (from numpy-financial) (2.0.2)\n",
            "Downloading numpy_financial-1.0.0-py3-none-any.whl (14 kB)\n",
            "Installing collected packages: numpy-financial\n",
            "Successfully installed numpy-financial-1.0.0\n"
          ]
        }
      ]
    },
    {
      "cell_type": "code",
      "metadata": {
        "colab": {
          "base_uri": "https://localhost:8080/",
          "height": 276,
          "referenced_widgets": [
            "40893cea0b624e5a973c0508647cc9f4",
            "c8bd0d8e90f0432ba9d70364abcf5c12",
            "5b015a55ae044d87beafe03cda451d0e",
            "01b30e0f7caa4b2a9605f4d41e606f7a",
            "e6f7ec3b607c4170a548f5af0977dc12",
            "d03d7be666934ee79806dbd4c855be90",
            "c7e93de6e551435f86fb78d909cae902",
            "15b48d154f3e4ccf9f4b1f55ca4c1eb1",
            "d6079da2f26e404d85b35722e90b0a1f",
            "2a108a37e1a94530b00bfa0e790d1075",
            "c7f7263fa9a644beb0678d9b2df4053a",
            "535eb6166c87408882bc0e8612c58293",
            "4acca5d25fd741f18c5987299469bc54",
            "3b3dcd7779aa4b8db1cdf780a1d7b70b"
          ]
        },
        "id": "4f40b165",
        "outputId": "b558a3b0-6031-47c4-8103-118252cc8bfd"
      },
      "source": [
        "import ipywidgets as widgets\n",
        "from IPython.display import display, clear_output\n",
        "import numpy_financial as npf\n",
        "import numpy as np # Import numpy for isnan check\n",
        "\n",
        "# Function to calculate NPV (reusing the previous definition)\n",
        "def npv(rate, cashflows):\n",
        "    \"\"\"\n",
        "    rate: discount rate (example: 0.10 for 10%)\n",
        "    cashflows: list of cash flows, where\n",
        "               cashflows[0] is the initial investment (usually negative)\n",
        "               cashflows[1], cashflows[2], ... are inflows in future years\n",
        "    \"\"\"\n",
        "    total_value = 0\n",
        "    for t, cash in enumerate(cashflows):\n",
        "        present_value = cash / ((1 + rate) ** t)\n",
        "        total_value += present_value\n",
        "    return total_value\n",
        "\n",
        "# Function to calculate IRR (reusing the previous definition)\n",
        "def irr(cashflows):\n",
        "    \"\"\"\n",
        "    cashflows: list of cash flows, where\n",
        "               cashflows[0] is the initial investment (usually negative)\n",
        "               cashflows[1], cashflows[2], ... are inflows in future years\n",
        "    \"\"\"\n",
        "    try:\n",
        "        return npf.irr(cashflows)\n",
        "    except:\n",
        "        return float('nan') # Return NaN if IRR cannot be calculated\n",
        "\n",
        "\n",
        "# Create input widgets\n",
        "cash_flows_input = widgets.Textarea(\n",
        "    description='Cash Flows:',\n",
        "    placeholder='-1000, 200, 300, 400, 500',\n",
        "    disabled=False\n",
        ")\n",
        "\n",
        "discount_rate_input = widgets.FloatText(\n",
        "    description='Discount Rate (for NPV):',\n",
        "    value=0.10,\n",
        "    disabled=False\n",
        ")\n",
        "\n",
        "hurdle_rate_input = widgets.FloatText(\n",
        "    description='Hurdle Rate (for IRR):',\n",
        "    value=0.15, # Example hurdle rate\n",
        "    disabled=False\n",
        ")\n",
        "\n",
        "calculate_button = widgets.Button(description='Calculate')\n",
        "\n",
        "# Output widget to display results\n",
        "output = widgets.Output()\n",
        "\n",
        "# Function to handle button click\n",
        "def on_button_clicked(b):\n",
        "    with output:\n",
        "        clear_output()\n",
        "        try:\n",
        "            cash_flows = [float(x.strip()) for x in cash_flows_input.value.split(',')]\n",
        "            discount_rate = discount_rate_input.value\n",
        "            hurdle_rate = hurdle_rate_input.value\n",
        "\n",
        "            npv_value = npv(discount_rate, cash_flows)\n",
        "            irr_value = irr(cash_flows)\n",
        "\n",
        "            print(f\"Net Present Value (NPV): {npv_value:.2f}\")\n",
        "            if not np.isnan(irr_value):\n",
        "                 print(f\"Internal Rate of Return (IRR): {irr_value:.2%}\")\n",
        "            else:\n",
        "                 print(\"Internal Rate of Return (IRR): Could not calculate\")\n",
        "            print(f\"Hurdle Rate: {hurdle_rate:.2%}\")\n",
        "\n",
        "\n",
        "            print(\"\\n--- Investment Decision Rule ---\")\n",
        "            if npv_value > 0:\n",
        "                print(\"Based on NPV: Accept the investment.\")\n",
        "            elif npv_value < 0:\n",
        "                print(\"Based on NPV: Reject the investment.\")\n",
        "            else:\n",
        "                print(\"Based on NPV: The investment is neutral.\")\n",
        "\n",
        "            if not np.isnan(irr_value):\n",
        "                if irr_value > hurdle_rate:\n",
        "                    print(f\"Based on IRR: Accept the investment (IRR > Hurdle Rate).\")\n",
        "                elif irr_value < hurdle_rate:\n",
        "                    print(f\"Based on IRR: Reject the investment (IRR < Hurdle Rate).\")\n",
        "                else:\n",
        "                    print(f\"Based on IRR: The investment is neutral (IRR = Hurdle Rate).\")\n",
        "            else:\n",
        "                 print(\"Based on IRR: Cannot apply decision rule as IRR could not be calculated.\")\n",
        "\n",
        "\n",
        "        except ValueError:\n",
        "            print(\"Invalid input. Please ensure cash flows are numbers separated by commas.\")\n",
        "        except Exception as e:\n",
        "            print(f\"An error occurred: {e}\")\n",
        "\n",
        "\n",
        "# Link button click to function\n",
        "calculate_button.on_click(on_button_clicked)\n",
        "\n",
        "# Display the widgets\n",
        "display(cash_flows_input, discount_rate_input, hurdle_rate_input, calculate_button, output)"
      ],
      "execution_count": 5,
      "outputs": [
        {
          "output_type": "display_data",
          "data": {
            "text/plain": [
              "Textarea(value='', description='Cash Flows:', placeholder='-1000, 200, 300, 400, 500')"
            ],
            "application/vnd.jupyter.widget-view+json": {
              "version_major": 2,
              "version_minor": 0,
              "model_id": "40893cea0b624e5a973c0508647cc9f4"
            }
          },
          "metadata": {}
        },
        {
          "output_type": "display_data",
          "data": {
            "text/plain": [
              "FloatText(value=0.1, description='Discount Rate (for NPV):')"
            ],
            "application/vnd.jupyter.widget-view+json": {
              "version_major": 2,
              "version_minor": 0,
              "model_id": "01b30e0f7caa4b2a9605f4d41e606f7a"
            }
          },
          "metadata": {}
        },
        {
          "output_type": "display_data",
          "data": {
            "text/plain": [
              "FloatText(value=0.15, description='Hurdle Rate (for IRR):')"
            ],
            "application/vnd.jupyter.widget-view+json": {
              "version_major": 2,
              "version_minor": 0,
              "model_id": "c7e93de6e551435f86fb78d909cae902"
            }
          },
          "metadata": {}
        },
        {
          "output_type": "display_data",
          "data": {
            "text/plain": [
              "Button(description='Calculate', style=ButtonStyle())"
            ],
            "application/vnd.jupyter.widget-view+json": {
              "version_major": 2,
              "version_minor": 0,
              "model_id": "2a108a37e1a94530b00bfa0e790d1075"
            }
          },
          "metadata": {}
        },
        {
          "output_type": "display_data",
          "data": {
            "text/plain": [
              "Output()"
            ],
            "application/vnd.jupyter.widget-view+json": {
              "version_major": 2,
              "version_minor": 0,
              "model_id": "4acca5d25fd741f18c5987299469bc54"
            }
          },
          "metadata": {}
        }
      ]
    }
  ]
}